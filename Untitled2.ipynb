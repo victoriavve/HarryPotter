{
  "nbformat": 4,
  "nbformat_minor": 0,
  "metadata": {
    "colab": {
      "name": "Untitled2.ipynb",
      "provenance": []
    },
    "kernelspec": {
      "name": "python3",
      "display_name": "Python 3"
    },
    "language_info": {
      "name": "python"
    }
  },
  "cells": [
    {
      "cell_type": "code",
      "metadata": {
        "id": "ilHcKgn_9BLB"
      },
      "source": [
        "import pandas as pd\n",
        "import numpy as np\n",
        "import plotly.express as px"
      ],
      "execution_count": 4,
      "outputs": []
    },
    {
      "cell_type": "code",
      "metadata": {
        "id": "9VHAp4DM7Uq0"
      },
      "source": [
        "df = pd.read_csv('https://github.com/victoriavve/HarryPotter/raw/main/Characters.csv', sep=';', encoding=\"ISO-8859-1\")"
      ],
      "execution_count": 5,
      "outputs": []
    },
    {
      "cell_type": "markdown",
      "metadata": {
        "id": "vUo3iE7b9NFo"
      },
      "source": [
        "How many rows and columns are in this dataset?"
      ]
    },
    {
      "cell_type": "code",
      "metadata": {
        "colab": {
          "base_uri": "https://localhost:8080/",
          "height": 131
        },
        "id": "GyGf5v0z9Xf6",
        "outputId": "8abb32a0-1a01-4d62-83e4-96e105fb7a94"
      },
      "source": [
        "num_rows  = df.shape[0]\n",
        "num_cols = df.shape[1]\n",
        "\n",
        "num_rows\n",
        "num_cols"
      ],
      "execution_count": 1,
      "outputs": [
        {
          "output_type": "error",
          "ename": "SyntaxError",
          "evalue": "ignored",
          "traceback": [
            "\u001b[0;36m  File \u001b[0;32m\"<ipython-input-1-d3073671567c>\"\u001b[0;36m, line \u001b[0;32m5\u001b[0m\n\u001b[0;31m    num_cols)\u001b[0m\n\u001b[0m           ^\u001b[0m\n\u001b[0;31mSyntaxError\u001b[0m\u001b[0;31m:\u001b[0m invalid syntax\n"
          ]
        }
      ]
    }
  ]
}